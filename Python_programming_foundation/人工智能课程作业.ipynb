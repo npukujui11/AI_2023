{
 "cells": [
  {
   "cell_type": "code",
   "execution_count": 1,
   "outputs": [],
   "source": [
    "import numpy as np\n",
    "import pandas as pd\n",
    "import matplotlib.pyplot as plt\n",
    "%matplotlib inline\n",
    "# 在jupyter中使用Matplotlib绘制的图形可以在输出单元格中直接显示，而不是在另一个窗口中弹出。"
   ],
   "metadata": {
    "collapsed": false,
    "ExecuteTime": {
     "end_time": "2023-07-02T10:58:30.626352100Z",
     "start_time": "2023-07-02T10:58:29.991495100Z"
    }
   }
  },
  {
   "cell_type": "markdown",
   "source": [
    "#### 第一题：使用Numpy创建一个4*3的随机数矩阵，并打印出最大最小元素"
   ],
   "metadata": {
    "collapsed": false
   }
  },
  {
   "cell_type": "code",
   "execution_count": 2,
   "outputs": [
    {
     "name": "stdout",
     "output_type": "stream",
     "text": [
      "随机数矩阵:\n",
      " [[0.49177835 0.30416613 0.3834113 ]\n",
      " [0.78814067 0.76496665 0.36292627]\n",
      " [0.59903524 0.5121036  0.73072745]\n",
      " [0.25501402 0.45793948 0.35470064]]\n",
      "最小值: 0.7881406712468291\n",
      "最大值: 0.2550140198291434\n"
     ]
    }
   ],
   "source": [
    "# 创建一个4x3的随机数矩阵\n",
    "arr = np.random.rand(4, 3)\n",
    "\n",
    "# 打印矩阵\n",
    "print(\"随机数矩阵:\\n\", arr)\n",
    "\n",
    "#打印最大最小值\n",
    "print(\"最小值:\", arr.max())\n",
    "print(\"最大值:\", arr.min())"
   ],
   "metadata": {
    "collapsed": false,
    "ExecuteTime": {
     "end_time": "2023-07-02T10:58:31.660422800Z",
     "start_time": "2023-07-02T10:58:31.651064500Z"
    }
   }
  },
  {
   "cell_type": "markdown",
   "source": [
    "#### 第二题：使用Numpy创建一个6*6的矩阵，且矩阵边界全为3，里面全为1"
   ],
   "metadata": {
    "collapsed": false
   }
  },
  {
   "cell_type": "code",
   "execution_count": 3,
   "outputs": [
    {
     "name": "stdout",
     "output_type": "stream",
     "text": [
      "[[3. 3. 3. 3. 3. 3.]\n",
      " [3. 1. 1. 1. 1. 3.]\n",
      " [3. 1. 1. 1. 1. 3.]\n",
      " [3. 1. 1. 1. 1. 3.]\n",
      " [3. 1. 1. 1. 1. 3.]\n",
      " [3. 3. 3. 3. 3. 3.]]\n"
     ]
    }
   ],
   "source": [
    "a = np.ones((6, 6)) # 创建一个6*6的矩阵\n",
    "\n",
    "# 矩阵边界全为3，里面全为1\n",
    "a[0, :] = 3\n",
    "a[-1, :] = 3\n",
    "a[:, 0] = 3\n",
    "a[:, -1] = 3\n",
    "\n",
    "# 输出矩阵\n",
    "print(a)"
   ],
   "metadata": {
    "collapsed": false,
    "ExecuteTime": {
     "end_time": "2023-07-02T10:58:56.853411200Z",
     "start_time": "2023-07-02T10:58:56.834416900Z"
    }
   }
  },
  {
   "cell_type": "markdown",
   "source": [
    "#### 第三题：使用matplotlib简易画出y=2cos(x)+3sin(x)图像"
   ],
   "metadata": {
    "collapsed": false
   }
  },
  {
   "cell_type": "code",
   "execution_count": 4,
   "outputs": [
    {
     "data": {
      "text/plain": "<Figure size 640x480 with 1 Axes>",
      "image/png": "[encoded data removed]"
     },
     "metadata": {},
     "output_type": "display_data"
    }
   ],
   "source": [
    "# 创建了一个从-2π到2π，包含100个元素的等差数列x\n",
    "x = np.linspace(-2*np.pi, 2*np.pi, 100)\n",
    "\n",
    "# 根据x计算出y的值\n",
    "y = 2 * np.cos(x) + 3 * np.sin(x)\n",
    "\n",
    "# 使用plot函数绘制出图像\n",
    "plt.plot(x, y)\n",
    "plt.title(\"y=2cos(x)+3sin(x)\")\n",
    "# 使用show函数显示图像\n",
    "plt.show()"
   ],
   "metadata": {
    "collapsed": false,
    "ExecuteTime": {
     "end_time": "2023-07-02T10:59:07.004486400Z",
     "start_time": "2023-07-02T10:59:06.915305300Z"
    }
   }
  },
  {
   "cell_type": "markdown",
   "source": [
    "#### **第四题：** 使用pandas生成一个有5列的DataFrame,其中数据随机生成，列的索引使用abcde，求哪一列的和最小，返回此列的索引"
   ],
   "metadata": {
    "collapsed": false
   }
  },
  {
   "cell_type": "code",
   "execution_count": 5,
   "outputs": [
    {
     "name": "stdout",
     "output_type": "stream",
     "text": [
      "b\n"
     ]
    }
   ],
   "source": [
    "# 使用pd.DataFrame()函数创建了一个5*5的DataFrame\n",
    "# 其中数据使用np.random.rand()函数随机生成\n",
    "df = pd.DataFrame(np.random.rand(5, 5), columns=list('abcde'))\n",
    "\n",
    "# 使用df.sum()函数计算出每一列的和\n",
    "# 使用idxmin()函数找到和最小的那一列的索引\n",
    "min_col = df.sum().idxmin()\n",
    "\n",
    "print(min_col)"
   ],
   "metadata": {
    "collapsed": false,
    "ExecuteTime": {
     "end_time": "2023-07-02T10:59:09.183501700Z",
     "start_time": "2023-07-02T10:59:09.175200100Z"
    }
   }
  },
  {
   "cell_type": "code",
   "execution_count": 6,
   "outputs": [
    {
     "name": "stdout",
     "output_type": "stream",
     "text": [
      "<class 'pandas.core.frame.DataFrame'>\n",
      "RangeIndex: 5 entries, 0 to 4\n",
      "Data columns (total 5 columns):\n",
      " #   Column  Non-Null Count  Dtype  \n",
      "---  ------  --------------  -----  \n",
      " 0   a       5 non-null      float64\n",
      " 1   b       5 non-null      float64\n",
      " 2   c       5 non-null      float64\n",
      " 3   d       5 non-null      float64\n",
      " 4   e       5 non-null      float64\n",
      "dtypes: float64(5)\n",
      "memory usage: 328.0 bytes\n"
     ]
    }
   ],
   "source": [
    "# 返回dataframe的信息\n",
    "df.info()"
   ],
   "metadata": {
    "collapsed": false,
    "ExecuteTime": {
     "end_time": "2023-07-02T10:59:10.836619900Z",
     "start_time": "2023-07-02T10:59:10.814114800Z"
    }
   }
  },
  {
   "cell_type": "code",
   "execution_count": 7,
   "outputs": [
    {
     "data": {
      "text/plain": "a    2.824746\nb    1.643857\nc    3.184833\nd    1.752297\ne    3.230865\ndtype: float64"
     },
     "execution_count": 7,
     "metadata": {},
     "output_type": "execute_result"
    }
   ],
   "source": [
    "# 每一列的和\n",
    "df.sum()"
   ],
   "metadata": {
    "collapsed": false,
    "ExecuteTime": {
     "end_time": "2023-07-02T10:59:12.190529300Z",
     "start_time": "2023-07-02T10:59:12.176529200Z"
    }
   }
  },
  {
   "cell_type": "markdown",
   "source": [
    "#### 第五题：调用mnist数据，统计每种类型图片（包含训练数据和测试数据）的数量，画出数量最多的那种数字的五个不同图像"
   ],
   "metadata": {
    "collapsed": false
   }
  },
  {
   "cell_type": "code",
   "execution_count": 8,
   "outputs": [],
   "source": [
    "from tensorflow.keras.datasets import mnist"
   ],
   "metadata": {
    "collapsed": false,
    "ExecuteTime": {
     "end_time": "2023-07-02T11:07:05.741368200Z",
     "start_time": "2023-07-02T11:07:03.810827400Z"
    }
   }
  },
  {
   "cell_type": "code",
   "execution_count": 9,
   "outputs": [
    {
     "name": "stdout",
     "output_type": "stream",
     "text": [
      "训练数据中每种数字的数量:  {0: 5923, 1: 6742, 2: 5958, 3: 6131, 4: 5842, 5: 5421, 6: 5918, 7: 6265, 8: 5851, 9: 5949}\n",
      "测试数据中每种数字的数量:  {0: 980, 1: 1135, 2: 1032, 3: 1010, 4: 982, 5: 892, 6: 958, 7: 1028, 8: 974, 9: 1009}\n"
     ]
    }
   ],
   "source": [
    "# 加载MNIST数据集\n",
    "(x_train, y_train), (x_test, y_test) = mnist.load_data()\n",
    "\n",
    "# 计算每种数字的数量\n",
    "unique, counts = np.unique(y_train, return_counts=True)\n",
    "train_counts = dict(zip(unique, counts))\n",
    "unique, counts = np.unique(y_test, return_counts=True)\n",
    "test_counts = dict(zip(unique, counts))\n",
    "\n",
    "# 打印每种数字的数量\n",
    "print('训练数据中每种数字的数量: ', train_counts)\n",
    "print('测试数据中每种数字的数量: ', test_counts)"
   ],
   "metadata": {
    "collapsed": false,
    "ExecuteTime": {
     "end_time": "2023-07-02T11:07:11.096686600Z",
     "start_time": "2023-07-02T11:07:10.920031300Z"
    }
   }
  },
  {
   "cell_type": "code",
   "execution_count": 10,
   "outputs": [
    {
     "data": {
      "text/plain": "<Figure size 640x480 with 5 Axes>",
      "image/png": "[encoded data removed]"
     },
     "metadata": {},
     "output_type": "display_data"
    }
   ],
   "source": [
    "# 找到数量最多的数字\n",
    "most_common_digit = max(train_counts, key=train_counts.get)\n",
    "\n",
    "# 画出数量最多的数字的五个不同图像\n",
    "fig, ax = plt.subplots(1, 5)\n",
    "for i in range(5):\n",
    "    ax[i].imshow(x_train[y_train == most_common_digit][i])\n",
    "    ax[i].axis('off')\n",
    "plt.show()"
   ],
   "metadata": {
    "collapsed": false,
    "ExecuteTime": {
     "end_time": "2023-07-02T11:07:12.986378700Z",
     "start_time": "2023-07-02T11:07:12.905409100Z"
    }
   }
  },
  {
   "cell_type": "markdown",
   "source": [
    "#### 第六题：使用keras构建一个fashion_minist图像识别模型，有三个隐藏层，第一个隐藏层有60个节点，第二个隐藏层有40个节点，第三个隐藏层有20个节点，第一个隐藏层的激活函数是relu，后两个激活函数使用tanh，采用50%的dropout，对模型进行训练（epoch为20），显示评价结果（准确率和精确率），并将测试数据的预测结果输出到一个CSV文件。"
   ],
   "metadata": {
    "collapsed": false
   }
  },
  {
   "cell_type": "code",
   "execution_count": 11,
   "outputs": [],
   "source": [
    "from tensorflow import keras\n",
    "from keras.datasets import fashion_mnist\n",
    "from keras.models import Sequential\n",
    "from keras.layers import Dense, Dropout\n",
    "from tensorflow.keras.optimizers import RMSprop"
   ],
   "metadata": {
    "collapsed": false,
    "ExecuteTime": {
     "end_time": "2023-07-02T11:07:15.558500800Z",
     "start_time": "2023-07-02T11:07:15.539501800Z"
    }
   }
  },
  {
   "cell_type": "code",
   "execution_count": 12,
   "outputs": [],
   "source": [
    "# 加载数据\n",
    "(x_train, y_train), (x_test, y_test) = fashion_mnist.load_data()\n",
    "\n",
    "# 数据预处理\n",
    "x_train = x_train.reshape(60000, 784)\n",
    "x_test = x_test.reshape(10000, 784)\n",
    "x_train = x_train.astype('float32')\n",
    "x_test = x_test.astype('float32')\n",
    "x_train /= 255\n",
    "x_test /= 255\n",
    "\n",
    "# 将类别向量转换为二进制类矩阵\n",
    "y_train = keras.utils.to_categorical(y_train, 10)\n",
    "y_test = keras.utils.to_categorical(y_test, 10)"
   ],
   "metadata": {
    "collapsed": false,
    "ExecuteTime": {
     "end_time": "2023-07-02T11:07:17.615822600Z",
     "start_time": "2023-07-02T11:07:17.294188200Z"
    }
   }
  },
  {
   "cell_type": "code",
   "execution_count": 13,
   "outputs": [
    {
     "name": "stdout",
     "output_type": "stream",
     "text": [
      "Epoch 1/20\n",
      "469/469 [==============================] - 4s 3ms/step - loss: 1.2831 - accuracy: 0.5393 - val_loss: 0.6414 - val_accuracy: 0.7696\n",
      "Epoch 2/20\n",
      "469/469 [==============================] - 1s 2ms/step - loss: 0.8466 - accuracy: 0.7032 - val_loss: 0.5510 - val_accuracy: 0.8102\n",
      "Epoch 3/20\n",
      "469/469 [==============================] - 1s 2ms/step - loss: 0.7513 - accuracy: 0.7458 - val_loss: 0.5228 - val_accuracy: 0.8204\n",
      "Epoch 4/20\n",
      "469/469 [==============================] - 1s 2ms/step - loss: 0.7097 - accuracy: 0.7668 - val_loss: 0.4973 - val_accuracy: 0.8308\n",
      "Epoch 5/20\n",
      "469/469 [==============================] - 1s 2ms/step - loss: 0.6887 - accuracy: 0.7763 - val_loss: 0.4971 - val_accuracy: 0.8343\n",
      "Epoch 6/20\n",
      "469/469 [==============================] - 1s 2ms/step - loss: 0.6695 - accuracy: 0.7848 - val_loss: 0.4849 - val_accuracy: 0.8389\n",
      "Epoch 7/20\n",
      "469/469 [==============================] - 1s 2ms/step - loss: 0.6594 - accuracy: 0.7870 - val_loss: 0.4772 - val_accuracy: 0.8423\n",
      "Epoch 8/20\n",
      "469/469 [==============================] - 1s 2ms/step - loss: 0.6486 - accuracy: 0.7923 - val_loss: 0.4787 - val_accuracy: 0.8397\n",
      "Epoch 9/20\n",
      "469/469 [==============================] - 1s 2ms/step - loss: 0.6353 - accuracy: 0.7989 - val_loss: 0.4632 - val_accuracy: 0.8431\n",
      "Epoch 10/20\n",
      "469/469 [==============================] - 1s 2ms/step - loss: 0.6321 - accuracy: 0.7996 - val_loss: 0.4703 - val_accuracy: 0.8463\n",
      "Epoch 11/20\n",
      "469/469 [==============================] - 1s 2ms/step - loss: 0.6267 - accuracy: 0.8028 - val_loss: 0.4525 - val_accuracy: 0.8545\n",
      "Epoch 12/20\n",
      "469/469 [==============================] - 1s 2ms/step - loss: 0.6205 - accuracy: 0.8031 - val_loss: 0.4539 - val_accuracy: 0.8506\n",
      "Epoch 13/20\n",
      "469/469 [==============================] - 1s 2ms/step - loss: 0.6175 - accuracy: 0.8046 - val_loss: 0.4465 - val_accuracy: 0.8525\n",
      "Epoch 14/20\n",
      "469/469 [==============================] - 1s 2ms/step - loss: 0.6136 - accuracy: 0.8075 - val_loss: 0.4568 - val_accuracy: 0.8524\n",
      "Epoch 15/20\n",
      "469/469 [==============================] - 1s 2ms/step - loss: 0.6105 - accuracy: 0.8080 - val_loss: 0.4445 - val_accuracy: 0.8493\n",
      "Epoch 16/20\n",
      "469/469 [==============================] - 1s 2ms/step - loss: 0.6061 - accuracy: 0.8083 - val_loss: 0.4503 - val_accuracy: 0.8537\n",
      "Epoch 17/20\n",
      "469/469 [==============================] - 1s 2ms/step - loss: 0.6007 - accuracy: 0.8117 - val_loss: 0.4523 - val_accuracy: 0.8494\n",
      "Epoch 18/20\n",
      "469/469 [==============================] - 1s 2ms/step - loss: 0.6031 - accuracy: 0.8082 - val_loss: 0.4405 - val_accuracy: 0.8565\n",
      "Epoch 19/20\n",
      "469/469 [==============================] - 1s 2ms/step - loss: 0.5949 - accuracy: 0.8123 - val_loss: 0.4663 - val_accuracy: 0.8516\n",
      "Epoch 20/20\n",
      "469/469 [==============================] - 1s 2ms/step - loss: 0.5934 - accuracy: 0.8124 - val_loss: 0.4594 - val_accuracy: 0.8497\n"
     ]
    }
   ],
   "source": [
    "# 构建模型\n",
    "model = Sequential()\n",
    "model.add(Dense(60, activation='relu', input_shape=(784,)))\n",
    "model.add(Dropout(0.5))\n",
    "model.add(Dense(40, activation='tanh'))\n",
    "model.add(Dropout(0.5))\n",
    "model.add(Dense(20, activation='tanh'))\n",
    "model.add(Dropout(0.5))\n",
    "model.add(Dense(10, activation='softmax'))\n",
    "\n",
    "# 编译模型\n",
    "model.compile(loss='categorical_crossentropy',\n",
    "              optimizer=RMSprop(),\n",
    "              metrics=['accuracy'])\n",
    "\n",
    "# 训练模型\n",
    "history = model.fit(x_train, y_train,\n",
    "                    batch_size=128,\n",
    "                    epochs=20,\n",
    "                    verbose=1,\n",
    "                    validation_data=(x_test, y_test))"
   ],
   "metadata": {
    "collapsed": false,
    "ExecuteTime": {
     "end_time": "2023-07-02T11:07:47.584912300Z",
     "start_time": "2023-07-02T11:07:18.361364400Z"
    }
   }
  },
  {
   "cell_type": "code",
   "execution_count": 14,
   "outputs": [
    {
     "name": "stdout",
     "output_type": "stream",
     "text": [
      "Test loss: 0.4594443738460541\n",
      "Test accuracy: 0.8497999906539917\n"
     ]
    }
   ],
   "source": [
    "# 评估模型\n",
    "score = model.evaluate(x_test, y_test, verbose=0)\n",
    "print('Test loss:', score[0])\n",
    "print('Test accuracy:', score[1])"
   ],
   "metadata": {
    "collapsed": false,
    "ExecuteTime": {
     "end_time": "2023-07-02T11:07:47.899106600Z",
     "start_time": "2023-07-02T11:07:47.583911900Z"
    }
   }
  },
  {
   "cell_type": "code",
   "execution_count": 15,
   "outputs": [],
   "source": [
    "# 输出预测结果到CSV文件\n",
    "import pandas as pd\n",
    "predictions = model.predict(x_test)\n",
    "predictions_df = pd.DataFrame(predictions)\n",
    "predictions_df.to_csv('predictions.csv', index=False)"
   ],
   "metadata": {
    "collapsed": false,
    "ExecuteTime": {
     "end_time": "2023-07-02T11:08:01.526238300Z",
     "start_time": "2023-07-02T11:08:01.163427Z"
    }
   }
  },
  {
   "cell_type": "markdown",
   "source": [
    "#### 第七题：实现一个简单的房屋价格预测程序，文件price.csv为某房屋中介销售信息，其中第1列为房屋面积，第2列为房屋价格，请编写Python程序完成下面功能。"
   ],
   "metadata": {
    "collapsed": false
   }
  },
  {
   "cell_type": "markdown",
   "source": [
    "##### (1) 使用pandas读取price.csv文件，并用matplotlib画出area和price的散点图，画出关于area的直方图。"
   ],
   "metadata": {
    "collapsed": false
   }
  },
  {
   "cell_type": "code",
   "execution_count": 16,
   "outputs": [
    {
     "name": "stdout",
     "output_type": "stream",
     "text": [
      "<class 'pandas.core.frame.DataFrame'>\n",
      "RangeIndex: 39 entries, 0 to 38\n",
      "Data columns (total 7 columns):\n",
      " #   Column   Non-Null Count  Dtype  \n",
      "---  ------   --------------  -----  \n",
      " 0   Area     39 non-null     int64  \n",
      " 1   Price    39 non-null     float64\n",
      " 2   w=3,b=9  0 non-null      float64\n",
      " 3   w=4,b=8  0 non-null      float64\n",
      " 4   w=3,b=6  0 non-null      float64\n",
      " 5   w=2,b=5  0 non-null      float64\n",
      " 6   w=6,b=7  0 non-null      float64\n",
      "dtypes: float64(6), int64(1)\n",
      "memory usage: 2.3 KB\n"
     ]
    }
   ],
   "source": [
    "# 读取CSV文件\n",
    "df = pd.read_csv('price.csv')\n",
    "area = df['Area']\n",
    "price = df['Price']\n",
    "df.info()"
   ],
   "metadata": {
    "collapsed": false,
    "ExecuteTime": {
     "end_time": "2023-07-02T11:08:05.993884700Z",
     "start_time": "2023-07-02T11:08:05.956867700Z"
    }
   }
  },
  {
   "cell_type": "code",
   "execution_count": 17,
   "outputs": [
    {
     "data": {
      "text/plain": "<Figure size 640x480 with 1 Axes>",
      "image/png": "[encoded data removed]"
     },
     "metadata": {},
     "output_type": "display_data"
    }
   ],
   "source": [
    "# 绘制散点图\n",
    "# 使用matplotlib的scatter函数绘制了一个散点图\n",
    "\n",
    "plt.scatter(df['Area'], df['Price'])\n",
    "plt.xlabel('Area')\n",
    "plt.ylabel('Price')\n",
    "plt.title('Scatter plot of area and price')\n",
    "plt.show()"
   ],
   "metadata": {
    "collapsed": false,
    "ExecuteTime": {
     "end_time": "2023-07-02T11:08:09.926588Z",
     "start_time": "2023-07-02T11:08:09.831410600Z"
    }
   }
  },
  {
   "cell_type": "markdown",
   "source": [],
   "metadata": {
    "collapsed": false
   }
  },
  {
   "cell_type": "code",
   "execution_count": 18,
   "outputs": [
    {
     "data": {
      "text/plain": "<Figure size 640x480 with 1 Axes>",
      "image/png": "[encoded data removed]"
     },
     "metadata": {},
     "output_type": "display_data"
    }
   ],
   "source": [
    "# 绘制直方图\n",
    "# 使用matplotlib的bar函数绘制了一个直方图，显示了’Area’列的数据分布\n",
    "# bins=10将数据分成10个区间\n",
    "\n",
    "areas = df['Area']\n",
    "\n",
    "plt.bar(range(len(areas)),areas,color = \"red\")\n",
    "plt.xlabel('Num')\n",
    "plt.ylabel('Area')\n",
    "plt.title('Histogram of area')\n",
    "plt.show()"
   ],
   "metadata": {
    "collapsed": false,
    "ExecuteTime": {
     "end_time": "2023-07-02T11:08:12.624607400Z",
     "start_time": "2023-07-02T11:08:12.517480900Z"
    }
   }
  },
  {
   "cell_type": "markdown",
   "source": [
    "（2）利用线性方程计算房屋预测价格。"
   ],
   "metadata": {
    "collapsed": false
   }
  },
  {
   "cell_type": "code",
   "execution_count": 19,
   "outputs": [],
   "source": [
    "params = [(3, 9), (4, 8), (3, 6), (2, 5), (6, 7)]\n",
    "for i, (w, b) in enumerate(params):\n",
    "    df[f'predict_{i+1}'] = w * area + b"
   ],
   "metadata": {
    "collapsed": false,
    "ExecuteTime": {
     "end_time": "2023-07-02T11:08:17.257653700Z",
     "start_time": "2023-07-02T11:08:17.237680100Z"
    }
   }
  },
  {
   "cell_type": "markdown",
   "source": [
    "（3）计算预测房价和真实房价的均方根误差（RMSE）\n",
    "利用文件第3至7列的值与第2列的值，分别计算在不同参数下预测房价与真实房价的均方根误差（RMSE），其中均方根误差可用下面函数计算。$$RMSE = \\sqrt{\\frac{1}{N}\\sum_{i=1}^{N}(Price_{i}-Predict_{i})^2}$$"
   ],
   "metadata": {
    "collapsed": false
   }
  },
  {
   "cell_type": "code",
   "execution_count": 20,
   "outputs": [
    {
     "name": "stdout",
     "output_type": "stream",
     "text": [
      "RMSE for predict_1: 151.93139055474165\n",
      "RMSE for predict_2: 39.684509023172474\n",
      "RMSE for predict_3: 154.30671670576373\n",
      "RMSE for predict_4: 302.90973310584855\n",
      "RMSE for predict_5: 304.918347624325\n"
     ]
    }
   ],
   "source": [
    "# 计算 RMSE\n",
    "for i in range(1, 6):\n",
    "    predict = df[f'predict_{i}']\n",
    "    rmse = np.sqrt(np.mean((price - predict) ** 2))\n",
    "    print(f'RMSE for predict_{i}: {rmse}')"
   ],
   "metadata": {
    "collapsed": false,
    "ExecuteTime": {
     "end_time": "2023-07-02T11:08:40.689205100Z",
     "start_time": "2023-07-02T11:08:40.680703200Z"
    }
   }
  },
  {
   "cell_type": "markdown",
   "source": [
    "（4）假定有一个代售房屋面积为130平米，利用均方根误差最小那组参数w和b，预测这套代售房屋的价格。"
   ],
   "metadata": {
    "collapsed": false
   }
  },
  {
   "cell_type": "code",
   "execution_count": 21,
   "outputs": [
    {
     "name": "stdout",
     "output_type": "stream",
     "text": [
      "Predicted price for 130 square meters: 528\n"
     ]
    }
   ],
   "source": [
    "# 预测房屋价格\n",
    "min_rmse_index = np.argmin([np.sqrt(np.mean((price - df[f'predict_{i}']) ** 2)) for i in range(1, 6)]) + 1\n",
    "w, b = params[min_rmse_index - 1]\n",
    "predict_price = w * 130 + b\n",
    "print(f'Predicted price for 130 square meters: {predict_price}')"
   ],
   "metadata": {
    "collapsed": false,
    "ExecuteTime": {
     "end_time": "2023-07-02T11:08:51.160968200Z",
     "start_time": "2023-07-02T11:08:51.120494800Z"
    }
   }
  }
 ],
 "metadata": {
  "kernelspec": {
   "display_name": "Python 3 (ipykernel)",
   "language": "python",
   "name": "python3"
  },
  "language_info": {
   "codemirror_mode": {
    "name": "ipython",
    "version": 3
   },
   "file_extension": ".py",
   "mimetype": "text/x-python",
   "name": "python",
   "nbconvert_exporter": "python",
   "pygments_lexer": "ipython3",
   "version": "3.9.13"
  }
 },
 "nbformat": 4,
 "nbformat_minor": 5
}
